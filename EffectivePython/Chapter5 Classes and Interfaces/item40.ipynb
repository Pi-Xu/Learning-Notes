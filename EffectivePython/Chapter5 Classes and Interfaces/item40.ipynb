{
 "cells": [
  {
   "cell_type": "markdown",
   "metadata": {},
   "source": [
    "# Item 40: Initialize Parent Class with `super`\n",
    "\n",
    "- 首先给出一些比较motivating的例子, 可以直接使用父类中的`__init__`函数进行继承关系的传递, 如下代码所示:"
   ]
  },
  {
   "cell_type": "code",
   "execution_count": 6,
   "metadata": {},
   "outputs": [
    {
     "name": "stdout",
     "output_type": "stream",
     "text": [
      "5\n"
     ]
    }
   ],
   "source": [
    "class MyBaseClass:\n",
    "    def __init__(self, value) -> None:\n",
    "        self.value = value\n",
    "\n",
    "    \n",
    "    def __repr__(self):\n",
    "        \"\"\" 可以直接 print 出来\"\"\"\n",
    "        return str(self.value)\n",
    "\n",
    "class MyChildClass(MyBaseClass):\n",
    "    def __init__(self, value) -> None:\n",
    "        MyBaseClass.__init__(self, value)\n",
    "\n",
    "tmp = MyChildClass(5)\n",
    "print(f'{tmp}')"
   ]
  },
  {
   "cell_type": "markdown",
   "metadata": {},
   "source": [
    "- 给出一个计算器的简单事例"
   ]
  },
  {
   "cell_type": "code",
   "execution_count": 7,
   "metadata": {},
   "outputs": [
    {
     "name": "stdout",
     "output_type": "stream",
     "text": [
      "(5 * 2) + 5 = 15\n"
     ]
    }
   ],
   "source": [
    "class TimesTwo:\n",
    "    def __init__(self) -> None:\n",
    "        self.value *= 2\n",
    "\n",
    "class PlusFive:\n",
    "    def __init__(self) -> None:\n",
    "        self.value += 5\n",
    "\n",
    "class OneWay(MyBaseClass, TimesTwo, PlusFive):\n",
    "    def __init__(self, value) -> None:\n",
    "        MyBaseClass.__init__(self, value)\n",
    "        TimesTwo.__init__(self)\n",
    "        PlusFive.__init__(self)\n",
    "\n",
    "\n",
    "foo = OneWay(5)\n",
    "\n",
    "print(f'(5 * 2) + 5 = {foo}')"
   ]
  },
  {
   "cell_type": "markdown",
   "metadata": {},
   "source": [
    "- 以上的代码工作量会比较大, 不够elegant, 这种方式在大工程中可能会很难读(比如`TimesTwo`类中的`value`是怎么来的)\n",
    "- 试试下面这种算法?\n"
   ]
  },
  {
   "cell_type": "code",
   "execution_count": 8,
   "metadata": {},
   "outputs": [],
   "source": [
    "class TimesSeven(MyBaseClass):\n",
    "    def __init__(self, value) -> None:\n",
    "        MyBaseClass.__init__(self, value)\n",
    "        self.value *= 7\n",
    "\n",
    "class PlusNine(MyBaseClass):\n",
    "    def __init__(self, value) -> None:\n",
    "        MyBaseClass.__init__(self, value)\n",
    "        self.value += 9\n",
    "\n",
    "class ThisWay(TimesSeven, PlusNine):\n",
    "    def __init__(self, value) -> None:\n",
    "        TimesSeven.__init__(self, value)\n",
    "        PlusNine.__init__(self, value)"
   ]
  },
  {
   "cell_type": "code",
   "execution_count": 10,
   "metadata": {},
   "outputs": [
    {
     "name": "stdout",
     "output_type": "stream",
     "text": [
      "Should be (5*7)+9 = 44 but is 14\n"
     ]
    }
   ],
   "source": [
    "foo = ThisWay(5)\n",
    "\n",
    "print(f'Should be (5*7)+9 = 44 but is {foo}')"
   ]
  },
  {
   "cell_type": "markdown",
   "metadata": {},
   "source": [
    "- 此时我们发现上述的value值又被重新设置成5了, 所以最后给出的结果是9+5=14\n",
    "- 我们可以考虑一下下述方法"
   ]
  },
  {
   "cell_type": "code",
   "execution_count": 11,
   "metadata": {},
   "outputs": [],
   "source": [
    "class TimesSevenCorrect(MyBaseClass):\n",
    "    def __init__(self, value) -> None:\n",
    "        super().__init__(value)\n",
    "        self.value *= 7\n",
    "\n",
    "class PlusNineCorrect(MyBaseClass):\n",
    "    def __init__(self, value) -> None:\n",
    "        super().__init__(value)\n",
    "        self.value += 9\n",
    "\n",
    "class GoodWay(TimesSevenCorrect, PlusNineCorrect):\n",
    "    def __init__(self, value) -> None:\n",
    "        super().__init__(value)"
   ]
  },
  {
   "cell_type": "markdown",
   "metadata": {},
   "source": [
    "- 先来查看一下`super`给出的初始化的顺序\n",
    "- 此时使用*C3 Linearization*算法对其进行初始化, 具体可以参考Item 48, 此处不详细展开\n"
   ]
  },
  {
   "cell_type": "code",
   "execution_count": 15,
   "metadata": {},
   "outputs": [
    {
     "name": "stdout",
     "output_type": "stream",
     "text": [
      "(<class '__main__.GoodWay'>, <class '__main__.TimesSevenCorrect'>, <class '__main__.PlusNineCorrect'>, <class '__main__.MyBaseClass'>, <class 'object'>)\n"
     ]
    }
   ],
   "source": [
    "print(GoodWay.__mro__)"
   ]
  },
  {
   "cell_type": "code",
   "execution_count": 14,
   "metadata": {},
   "outputs": [
    {
     "name": "stdout",
     "output_type": "stream",
     "text": [
      "(<class '__main__.GoodWay'>, <class '__main__.TimesSevenCorrect'>, <class '__main__.PlusNineCorrect'>, <class '__main__.MyBaseClass'>, <class 'object'>)\n",
      "Should be 7*(5+9) = 98 and is 98\n"
     ]
    }
   ],
   "source": [
    "foo = GoodWay(5)\n",
    "\n",
    "print(f'Should be 7*(5+9) = 98 and is {foo}')"
   ]
  },
  {
   "cell_type": "code",
   "execution_count": null,
   "metadata": {},
   "outputs": [],
   "source": []
  }
 ],
 "metadata": {
  "kernelspec": {
   "display_name": "Python 3.9.7 ('base')",
   "language": "python",
   "name": "python3"
  },
  "language_info": {
   "codemirror_mode": {
    "name": "ipython",
    "version": 3
   },
   "file_extension": ".py",
   "mimetype": "text/x-python",
   "name": "python",
   "nbconvert_exporter": "python",
   "pygments_lexer": "ipython3",
   "version": "3.9.7"
  },
  "orig_nbformat": 4,
  "vscode": {
   "interpreter": {
    "hash": "788cec04b5753cb8949237b6f53708697a8e3f026a5e6209d7e33b7d240f94b8"
   }
  }
 },
 "nbformat": 4,
 "nbformat_minor": 2
}
