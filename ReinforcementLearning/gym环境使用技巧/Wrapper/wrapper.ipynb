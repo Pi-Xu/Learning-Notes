{
 "cells": [
  {
   "cell_type": "code",
   "execution_count": 15,
   "metadata": {},
   "outputs": [],
   "source": [
    "import gym\n",
    "from gym.wrappers import RescaleAction\n",
    "import numpy as np \n",
    "from gym.spaces import Discrete\n",
    "from copy import deepcopy"
   ]
  },
  {
   "cell_type": "markdown",
   "metadata": {},
   "source": [
    "其他相关的信息可以查看`ReinforcementLearning/gym环境使用技巧/gym.md`\n",
    "\n",
    "## 基本的展示"
   ]
  },
  {
   "cell_type": "code",
   "execution_count": 2,
   "metadata": {},
   "outputs": [
    {
     "data": {
      "text/plain": [
       "Box(-1.0, 1.0, (4,), float32)"
      ]
     },
     "execution_count": 2,
     "metadata": {},
     "output_type": "execute_result"
    }
   ],
   "source": [
    "# 初始化一个base_env, 我们可以查看其`action_space`\n",
    "base_env = gym.make(\"BipedalWalker-v3\")\n",
    "base_env.action_space"
   ]
  },
  {
   "cell_type": "code",
   "execution_count": 3,
   "metadata": {},
   "outputs": [
    {
     "data": {
      "text/plain": [
       "Box(0.0, 1.0, (4,), float32)"
      ]
     },
     "execution_count": 3,
     "metadata": {},
     "output_type": "execute_result"
    }
   ],
   "source": [
    "# 使用内置类修改之后可以发现，其`action_space`发生变化了\n",
    "wrapped_env = RescaleAction(base_env, min_action=0, max_action=1)\n",
    "wrapped_env.action_space"
   ]
  },
  {
   "cell_type": "code",
   "execution_count": 4,
   "metadata": {},
   "outputs": [
    {
     "data": {
      "text/plain": [
       "<TimeLimit<OrderEnforcing<BipedalWalker<BipedalWalker-v3>>>>"
      ]
     },
     "execution_count": 4,
     "metadata": {},
     "output_type": "execute_result"
    }
   ],
   "source": [
    "# 可以check一下这个类的情况\n",
    "base_env"
   ]
  },
  {
   "cell_type": "code",
   "execution_count": 5,
   "metadata": {},
   "outputs": [
    {
     "data": {
      "text/plain": [
       "<RescaleAction<TimeLimit<OrderEnforcing<BipedalWalker<BipedalWalker-v3>>>>>"
      ]
     },
     "execution_count": 5,
     "metadata": {},
     "output_type": "execute_result"
    }
   ],
   "source": [
    "wrapped_env"
   ]
  },
  {
   "cell_type": "markdown",
   "metadata": {},
   "source": [
    "## 更General的介绍"
   ]
  },
  {
   "cell_type": "markdown",
   "metadata": {},
   "source": [
    "一般而言我们需要对环境进行以下改变：\n",
    "1. Transform **actions** before applying them to the base environment\n",
    "2. Transform **observations** that are returned by the base environment\n",
    "3. Transform **rewards** that are returned by the base environment\n",
    "\n",
    "我们可以使用`ActionWrapper`, `ObservationWrapper`, `RewardWrapper`按照需求对环境进行修改，而更复杂的case则需要使用`Wrapper`类。\n",
    "\n",
    "- 使用`ActionWrapper`对相关的内容进行修改\n"
   ]
  },
  {
   "cell_type": "code",
   "execution_count": 7,
   "metadata": {},
   "outputs": [
    {
     "name": "stdout",
     "output_type": "stream",
     "text": [
      "Discrete(4)\n",
      "Box(-1.0, 1.0, (2,), float32)\n"
     ]
    }
   ],
   "source": [
    "class DiscreteActions(gym.ActionWrapper):\n",
    "    def __init__(self, env, disc_to_cont):\n",
    "        super().__init__(env)\n",
    "        self.disc_to_cont = disc_to_cont\n",
    "        self.action_space = Discrete(len(disc_to_cont))\n",
    "    \n",
    "    def action(self, act):\n",
    "        return self.disc_to_cont[act]\n",
    "\n",
    "env = gym.make(\"LunarLanderContinuous-v2\")\n",
    "wrapped_env = DiscreteActions(env, [np.array([1,0]), np.array([-1,0]),\n",
    "                                    np.array([0,1]), np.array([0,-1])])\n",
    "\n",
    "print(wrapped_env.action_space)         #Discrete(4)\n",
    "print(env.action_space)"
   ]
  },
  {
   "cell_type": "markdown",
   "metadata": {},
   "source": [
    "- 使用`RewardWrapper`对相关的内容进行修改"
   ]
  },
  {
   "cell_type": "code",
   "execution_count": 16,
   "metadata": {},
   "outputs": [],
   "source": [
    "class LTailReward(gym.RewardWrapper):\n",
    "    ''' Light Tail Reward function'''\n",
    "    def __init__(self, env, mu = 0., sigma = 1.):\n",
    "        super().__init__(env)\n",
    "        self.mu = mu\n",
    "        self.sigma = sigma\n",
    "    \n",
    "    def reward(self, reward):\n",
    "        return reward + np.random.normal(self.mu, self.sigma)\n",
    "\n",
    "env = gym.make('CartPole-v1')\n",
    "wrapped_env = LTailReward(deepcopy(env))"
   ]
  },
  {
   "cell_type": "code",
   "execution_count": 19,
   "metadata": {},
   "outputs": [
    {
     "name": "stdout",
     "output_type": "stream",
     "text": [
      "1.0 \t 0.5736777105046559\n",
      "1.0 \t 2.3883410076424827\n",
      "1.0 \t 1.467618929155249\n",
      "1.0 \t 1.283649991851012\n",
      "1.0 \t -0.8679148247331889\n",
      "1.0 \t -0.3662533561181891\n",
      "1.0 \t -0.6414553113350954\n",
      "1.0 \t 1.9630420930538177\n",
      "1.0 \t -0.32213309387765765\n",
      "1.0 \t 0.6018081713107806\n"
     ]
    }
   ],
   "source": [
    "env.reset()\n",
    "wrapped_env.reset()\n",
    "\n",
    "for i in range(10):\n",
    "    action = env.action_space.sample()\n",
    "    obs1, reward_1, done1, info1 = env.step(action)\n",
    "    obs2, reward_2, done2, info2 = wrapped_env.step(action)\n",
    "    print(reward_1, '\\t' ,reward_2)\n",
    "    pass"
   ]
  },
  {
   "cell_type": "markdown",
   "metadata": {},
   "source": [
    "- 一些可以直接用的Wrapper参见：[Link](https://www.gymlibrary.dev/api/wrappers/#available-wrappers)"
   ]
  },
  {
   "cell_type": "code",
   "execution_count": null,
   "metadata": {},
   "outputs": [],
   "source": []
  }
 ],
 "metadata": {
  "kernelspec": {
   "display_name": "Python 3.8.13 ('rlenv')",
   "language": "python",
   "name": "python3"
  },
  "language_info": {
   "codemirror_mode": {
    "name": "ipython",
    "version": 3
   },
   "file_extension": ".py",
   "mimetype": "text/x-python",
   "name": "python",
   "nbconvert_exporter": "python",
   "pygments_lexer": "ipython3",
   "version": "3.8.13"
  },
  "orig_nbformat": 4,
  "vscode": {
   "interpreter": {
    "hash": "a8d45f14400ec01eb9938254ca6d2af093878c9065f4f41da7c9b8d7ec807c8d"
   }
  }
 },
 "nbformat": 4,
 "nbformat_minor": 2
}
