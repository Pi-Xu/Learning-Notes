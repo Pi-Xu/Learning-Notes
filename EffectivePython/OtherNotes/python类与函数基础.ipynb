{
 "cells": [
  {
   "cell_type": "markdown",
   "metadata": {},
   "source": [
    "## 类的继承\n",
    "\n",
    "要点： \n",
    "- 此处`__init__`函数\n",
    "- 此处`super.__init__`函数调用父类的初始化函数\n",
    "- 多态的继承可以参考: [super的使用](../Chapter5%20Classes%20and%20Interfaces/item40.ipynb), 一般而言, 不会有太过复杂的继承关系"
   ]
  },
  {
   "cell_type": "code",
   "execution_count": 1,
   "metadata": {},
   "outputs": [
    {
     "name": "stdout",
     "output_type": "stream",
     "text": [
      "喵喵 会叫\n"
     ]
    }
   ],
   "source": [
    "class Animal(object):  #  python3中所有类都可以继承于object基类\n",
    "   def __init__(self, name, age):\n",
    "       self.name = name\n",
    "       self.age = age\n",
    "\n",
    "   def call(self):\n",
    "       print(self.name, '会叫')\n",
    "\n",
    "######\n",
    "# 现在我们需要定义一个Cat 猫类继承于Animal，猫类比动物类多一个sex属性。 \n",
    "######\n",
    "class Cat(Animal):\n",
    "   def __init__(self,name,age,sex):\n",
    "       super(Cat, self).__init__(name,age)  # 不要忘记从Animal类引入属性\n",
    "       self.sex=sex\n",
    "\n",
    "if __name__ == '__main__':  # 单模块被引用时下面代码不会受影响，用于调试\n",
    "   c = Cat('喵喵', 2, '男')  #  Cat继承了父类Animal的属性\n",
    "   c.call()  # 输出 喵喵 会叫, Cat继承了父类Animal的方法 "
   ]
  },
  {
   "cell_type": "markdown",
   "metadata": {},
   "source": [
    "## 函数参数传递\n",
    "\n",
    "- A very clear example can be found in this [link](https://realpython.com/python-kwargs-and-args/)\n"
   ]
  },
  {
   "cell_type": "code",
   "execution_count": null,
   "metadata": {},
   "outputs": [],
   "source": []
  }
 ],
 "metadata": {
  "kernelspec": {
   "display_name": "Python 3.9.7 ('base')",
   "language": "python",
   "name": "python3"
  },
  "language_info": {
   "name": "python",
   "version": "3.9.7"
  },
  "orig_nbformat": 4,
  "vscode": {
   "interpreter": {
    "hash": "788cec04b5753cb8949237b6f53708697a8e3f026a5e6209d7e33b7d240f94b8"
   }
  }
 },
 "nbformat": 4,
 "nbformat_minor": 2
}
